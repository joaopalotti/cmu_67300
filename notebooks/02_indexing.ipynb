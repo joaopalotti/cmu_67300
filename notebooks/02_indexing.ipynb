{
 "cells": [
  {
   "cell_type": "code",
   "execution_count": 1,
   "metadata": {
    "collapsed": true
   },
   "outputs": [],
   "source": [
    "# a small collection with only 3 documents\n",
    "doc1 = \"this is a small document\"\n",
    "doc2 = \"this is another document, but larger.\"\n",
    "doc3 = \"Compared to the other two documents, this one is huuuuuge!\"\n"
   ]
  },
  {
   "cell_type": "code",
   "execution_count": 2,
   "metadata": {
    "collapsed": false
   },
   "outputs": [
    {
     "name": "stdout",
     "output_type": "stream",
     "text": [
      "this is a small document\n"
     ]
    }
   ],
   "source": [
    "print doc1"
   ]
  },
  {
   "cell_type": "code",
   "execution_count": 3,
   "metadata": {
    "collapsed": true
   },
   "outputs": [],
   "source": [
    "# A sample function breaks a text into a list of tokens\n",
    "import re\n",
    "\n",
    "def tokenize(text):\n",
    "    \n",
    "    text = re.sub(\"\\W\", \" \", text)\n",
    "    text = ' '.join(text.split()) # removes white-spaces followed by other white-spaces\n",
    "    \n",
    "    tokens = text.lower().split()\n",
    "    return tokens\n",
    "\n"
   ]
  },
  {
   "cell_type": "code",
   "execution_count": 4,
   "metadata": {
    "collapsed": false
   },
   "outputs": [
    {
     "data": {
      "text/plain": [
       "['this', 'is', 'a', 'small', 'document']"
      ]
     },
     "execution_count": 4,
     "metadata": {},
     "output_type": "execute_result"
    }
   ],
   "source": [
    "tokenize(doc1)"
   ]
  },
  {
   "cell_type": "code",
   "execution_count": 5,
   "metadata": {
    "collapsed": false
   },
   "outputs": [
    {
     "name": "stdout",
     "output_type": "stream",
     "text": [
      "{'a': {1: 1}, 'huuuuuge': {3: 1}, 'compared': {3: 1}, 'this': {1: 1, 2: 1, 3: 1}, 'is': {1: 1, 2: 1, 3: 1}, 'larger': {2: 1}, 'two': {3: 1}, 'but': {2: 1}, 'one': {3: 1}, 'to': {3: 1}, 'other': {3: 1}, 'another': {2: 1}, 'small': {1: 1}, 'the': {3: 1}, 'document': {1: 1, 2: 1}, 'documents': {3: 1}}\n"
     ]
    }
   ],
   "source": [
    "# The following simple structure will keep the all the dictionary and postings in memory.\n",
    "# The key to iindex is the term that you like to look up \n",
    "# and the postings have the frequency that this term occured in each document\n",
    "\n",
    "iindex = {}\n",
    "\n",
    "for docid, doccontent in [(1,doc1), (2,doc2), (3,doc3)]:\n",
    "    tokens = tokenize(doccontent)\n",
    "    for token in tokens:\n",
    "        if token not in iindex:\n",
    "            iindex[token] = {}\n",
    "        \n",
    "        if docid not in iindex[token]:\n",
    "            iindex[token][docid] = 0\n",
    "            \n",
    "        iindex[token][docid] += 1\n",
    "\n",
    "print iindex"
   ]
  },
  {
   "cell_type": "code",
   "execution_count": 6,
   "metadata": {
    "collapsed": false
   },
   "outputs": [
    {
     "name": "stdout",
     "output_type": "stream",
     "text": [
      "We found `small` in document doc1. It appeared 1 times.\n"
     ]
    }
   ],
   "source": [
    "# How many documents contain the word this?\n",
    "token = \"small\"\n",
    "for d, freq in iindex[token].items():\n",
    "    print \"We found `%s` in document doc%d. It appeared %d times.\" % (token, d, freq)"
   ]
  }
 ],
 "metadata": {
  "kernelspec": {
   "display_name": "Python 2",
   "language": "python",
   "name": "python2"
  },
  "language_info": {
   "codemirror_mode": {
    "name": "ipython",
    "version": 2
   },
   "file_extension": ".py",
   "mimetype": "text/x-python",
   "name": "python",
   "nbconvert_exporter": "python",
   "pygments_lexer": "ipython2",
   "version": "2.7.13"
  }
 },
 "nbformat": 4,
 "nbformat_minor": 1
}
